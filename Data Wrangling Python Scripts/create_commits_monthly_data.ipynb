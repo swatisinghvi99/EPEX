{
  "cells": [
    {
      "cell_type": "code",
      "execution_count": null,
      "metadata": {
        "id": "JuG7yEI34SZR"
      },
      "outputs": [],
      "source": [
        "import pandas as pd\n",
        "import os\n",
        "import re\n",
        "import json\n",
        "import warnings\n",
        "warnings.filterwarnings('ignore')\n",
        "from datetime import datetime\n",
        "from google.colab import files\n",
        "from datetime import datetime\n",
        "from dateutil import relativedelta"
      ]
    },
    {
      "cell_type": "code",
      "execution_count": null,
      "metadata": {
        "id": "IID5pyaT5Mg_"
      },
      "outputs": [],
      "source": [
        "emails_path='/content/drive/MyDrive/$ Nov Apache Data /monthly_data/commits'\n",
        "final_path='/content/drive/MyDrive/$ Nov Apache Data /updated_network_data/tester_monthly_commits/'\n",
        "to_id='/content/drive/MyDrive/$ Nov Apache Data /name_to_id.json'"
      ]
    },
    {
      "cell_type": "markdown",
      "metadata": {
        "id": "6wcPwdmIOYf0"
      },
      "source": [
        "checking whi"
      ]
    },
    {
      "cell_type": "code",
      "source": [
        "all_files=os.listdir(emails_path)\n",
        "all_files.sort()\n",
        "final_path='/content/drive/MyDrive/$ Nov Apache Data /updated_network_data/tester_monthly_commits/'"
      ],
      "metadata": {
        "id": "xNCYQ4AeLMus"
      },
      "execution_count": null,
      "outputs": []
    },
    {
      "cell_type": "code",
      "execution_count": null,
      "metadata": {
        "id": "J7vqTKjaOYFB"
      },
      "outputs": [],
      "source": [
        "def extract_number(input_string):\n",
        "  res=re.findall(r'\\d+',input_string)\n",
        "  return res[0]\n",
        "def extract_name(ans1):\n",
        "\n",
        "  regex = re.compile('[^a-zA-Z]')\n",
        "  #First parameter is the replacement, second parameter is your input string\n",
        "  a=regex.sub('',ans1.split('_')[0] )\n",
        "  return a"
      ]
    },
    {
      "cell_type": "code",
      "execution_count": null,
      "metadata": {
        "id": "ilfAFQ1VOYBY"
      },
      "outputs": [],
      "source": [
        "n=len(all_files)\n",
        "# number of projects to change the file name for \n",
        "projects_to_change=[]\n",
        "for i in range(n):\n",
        "  fo=all_files[i]\n",
        "  # read the file\n",
        "  # get the mentor list for this project\n",
        "  c=fo.split('__')[0]\n",
        "  p=extract_name(c)\n",
        "  digit=fo.split('__')[1].split('.')[0]\n",
        "  \n",
        "  if digit is '0':\n",
        "    if p not in projects_to_change:\n",
        "      projects_to_change.append(p)\n",
        "projects_to_change.sort()\n",
        "#######################\n",
        "n=len(all_files)\n",
        "# number of projects to change the file name for \n",
        "num_projects=[]\n",
        "for i in range(n):\n",
        "  fo=all_files[i]\n",
        "  # read the file\n",
        "  # get the mentor list for this project\n",
        "  c=fo.split('__')[0]\n",
        "  p=extract_name(c)\n",
        "  num_projects.append(p)\n",
        "num_projects=set(num_projects)"
      ]
    },
    {
      "cell_type": "code",
      "execution_count": null,
      "metadata": {
        "id": "ULrFjOxNOX-b"
      },
      "outputs": [],
      "source": [
        "with open(to_id, 'r') as f:\n",
        "       name_to_id= json.load(f)\n",
        "# \n",
        "test_values=list(name_to_id.values())\n",
        "# \n",
        "name=list(name_to_id)\n",
        "# \n",
        "test_keys=[i.split(' ')[0].lower().strip() for i in name_to_id ]\n",
        "# \n",
        "name_to_id_mapping = {test_keys[i]: test_values[i] for i in range(len(test_keys))}\n",
        "# \n",
        "key=list(name_to_id_mapping.values())\n",
        "k=[int(i) for i in key]\n",
        "k.sort()\n",
        "curre=k[-1]\n",
        "# \n",
        "\n",
        "name_to_id_mapping\n",
        "i=312\n",
        "for file in all_files:\n",
        "  prj_name=file.split('__',1)[0]\n",
        "  if prj_name not in name_to_id_mapping:\n",
        "    name_to_id_mapping[prj_name]=i\n",
        "    i+=1\n",
        "\n",
        "  else:\n",
        "    continue "
      ]
    },
    {
      "cell_type": "code",
      "execution_count": null,
      "metadata": {
        "id": "rt1R9FR4OufJ"
      },
      "outputs": [],
      "source": [
        ""
      ]
    },
    {
      "cell_type": "code",
      "execution_count": null,
      "metadata": {
        "id": "dezOeBpFOuaz"
      },
      "outputs": [],
      "source": [
        ""
      ]
    },
    {
      "cell_type": "code",
      "execution_count": null,
      "metadata": {
        "id": "uJe_tTdvOuX5"
      },
      "outputs": [],
      "source": [
        ""
      ]
    },
    {
      "cell_type": "code",
      "execution_count": null,
      "metadata": {
        "id": "q7ZTsjavOuUJ"
      },
      "outputs": [],
      "source": [
        ""
      ]
    },
    {
      "cell_type": "code",
      "execution_count": null,
      "metadata": {
        "id": "wJoxnkr65cY4"
      },
      "outputs": [],
      "source": [
        ""
      ]
    },
    {
      "cell_type": "code",
      "execution_count": null,
      "metadata": {
        "colab": {
          "base_uri": "https://localhost:8080/"
        },
        "id": "s70KHCrKgtqd",
        "outputId": "036af2c8-3ab3-4155-cec5-f619fe21b3b9"
      },
      "outputs": [
        {
          "output_type": "execute_result",
          "data": {
            "text/plain": [
              "272"
            ]
          },
          "metadata": {},
          "execution_count": 10
        }
      ],
      "source": [
        "len(os.listdir(final_path))"
      ]
    },
    {
      "cell_type": "code",
      "execution_count": null,
      "metadata": {
        "id": "pzTmAiaV5iWd"
      },
      "outputs": [],
      "source": [
        "filez='ace__1.edgelist'"
      ]
    },
    {
      "cell_type": "code",
      "execution_count": null,
      "metadata": {
        "id": "L87XT8P3_bCK"
      },
      "outputs": [],
      "source": [
        "\n",
        "def form_url(p,f,m,id):\n",
        "  base_url = 'http://mail-archives.apache.org/mod_mbox/'\n",
        "  final=base_url+p+ '-' + f + '/' +m + '/' + str(id)\n",
        "  return str(final)"
      ]
    },
    {
      "cell_type": "code",
      "execution_count": null,
      "metadata": {
        "id": "DHb4W91WAE7l"
      },
      "outputs": [],
      "source": [
        "def form_link_url(project,list_name,year,month,message_id):\n",
        "  base_url = 'http://mail-archives.apache.org/mod_mbox/'\n",
        "  if month<10:\n",
        "    month='0'+str(month)\n",
        "  final=base_url+project+ '-' + list_name + '/' +str(year)+str(month)+'.mbox'+'/' + str(message_id)\n",
        "  return final\n",
        "\n",
        "  \n"
      ]
    },
    {
      "cell_type": "code",
      "execution_count": null,
      "metadata": {
        "id": "OkARwoqcSK_r"
      },
      "outputs": [],
      "source": [
        "def create_name_of_the_file(developer_name,month,project_name):\n",
        "  # new_name=project_name+'/'+str(int(month))+'/'+ developer_name+'_'+str(int(month))\n",
        "  # new_name=developer_name+'_'+str(int(month))\n",
        "  new_name=developer_name\n",
        "  return new_name\n"
      ]
    },
    {
      "cell_type": "code",
      "execution_count": null,
      "metadata": {
        "id": "6GwfmBKpIr9W"
      },
      "outputs": [],
      "source": [
        ""
      ]
    },
    {
      "cell_type": "code",
      "execution_count": null,
      "metadata": {
        "id": "wVcClQVdMJST"
      },
      "outputs": [],
      "source": [
        "def human_time(feed_time):\n",
        "  d=feed_time.ctime()\n",
        "  return d"
      ]
    },
    {
      "cell_type": "code",
      "execution_count": null,
      "metadata": {
        "id": "ptZNnZoJT4pQ"
      },
      "outputs": [],
      "source": [
        "def get_unique_developers(df):\n",
        "  unique_d=df.dealised_author_full_name.unique()\n",
        "  unique_d.sort()\n",
        "  return unique_d"
      ]
    },
    {
      "cell_type": "code",
      "execution_count": null,
      "metadata": {
        "id": "CJWKQluoGkzD"
      },
      "outputs": [],
      "source": [
        ""
      ]
    },
    {
      "cell_type": "code",
      "source": [
        "len(all_files)"
      ],
      "metadata": {
        "colab": {
          "base_uri": "https://localhost:8080/"
        },
        "id": "yN7tXcAfHtGI",
        "outputId": "5ef9f462-c442-400c-9ee3-e9fd99073107"
      },
      "execution_count": null,
      "outputs": [
        {
          "output_type": "execute_result",
          "data": {
            "text/plain": [
              "6036"
            ]
          },
          "metadata": {},
          "execution_count": 79
        }
      ]
    },
    {
      "cell_type": "code",
      "execution_count": null,
      "metadata": {
        "id": "hbpUHjCLFGdm"
      },
      "outputs": [],
      "source": [
        "for new_files in range(len(all_files)):\n",
        "# for new_files in range(15):\n",
        "# for new_files in range(67):\n",
        "  f=all_files[new_files]\n",
        "  # f='ace__1.csv'\n",
        "  df=pd.read_csv(emails_path+'/'+f)\n",
        "  df['Date']=pd.to_datetime(df['date'], format='%Y-%m-%dT%H:%M:%S')\n",
        "  df['year']=pd.DatetimeIndex(df['Date']).year\n",
        "  df['Month']=pd.DatetimeIndex(df['Date']).month\n",
        "  df['human_date_time']=df.apply(lambda row:human_time(row['Date']),axis=1 )\n",
        "  # make the directory if it doesnt ecsists:\n",
        "  proj_name=f.split('__')[0]\n",
        "  cur_prj_month=f.split('__')[1].split('.')\n",
        "  cur_month=cur_prj_month[0]\n",
        "  if proj_name in projects_to_change:\n",
        "       cur_month=int(cur_month)\n",
        "       cur_month+=1\n",
        "  \n",
        "  if not os.path.exists(final_path+'/'+proj_name+'/'+str(cur_month)):\n",
        "      os.makedirs(final_path+'/'+proj_name+'/'+str(cur_month))\n",
        "  # # \n",
        "  df['link']=df.apply(lambda row:form_link_url(row['project_name'],row['list_name'],row['year'],row['Month'],row['message_id']),axis=1 )\n",
        "  df['file_name']=df.apply(lambda row:create_name_of_the_file(row['dealised_author_full_name'],row['month'],row['project_name']),axis=1 )\n",
        "  df=df.sort_values(by=['Date'], ascending=True)\n",
        "  u_devs=get_unique_developers(df)\n",
        "  for dev in u_devs:\n",
        "    dev_subset=df[df[\"dealised_author_full_name\"]==dev]\n",
        "    dev_subset=dev_subset.sort_values(by=['Date'], ascending=True)\n",
        "    smaller_df=dev_subset[['human_date_time','link','dealised_author_full_name']] \n",
        "    curr_file_name=dev_subset.file_name.iloc[0]\n",
        "    smaller_df.to_csv(final_path+'/'+proj_name+'/'+str(cur_month)+'/'+curr_file_name+'.csv',index=False)"
      ]
    },
    {
      "cell_type": "code",
      "execution_count": null,
      "metadata": {
        "id": "jnmCwHBoYcPs"
      },
      "outputs": [],
      "source": [
        "cur_month=f.split('__')[1].split('.')"
      ]
    },
    {
      "cell_type": "code",
      "execution_count": null,
      "metadata": {
        "colab": {
          "base_uri": "https://localhost:8080/"
        },
        "id": "7YWMx5iPJsS-",
        "outputId": "9a52a922-a2cd-4072-cadf-80a46e0d5590"
      },
      "outputs": [
        {
          "data": {
            "text/plain": [
              "['ace', '1.csv']"
            ]
          },
          "execution_count": 53,
          "metadata": {},
          "output_type": "execute_result"
        }
      ],
      "source": [
        "f.split('__')[0]"
      ]
    },
    {
      "cell_type": "markdown",
      "metadata": {
        "id": "oyJZK5iNWqWQ"
      },
      "source": [
        "this needs to loop across all the developer names present for that month "
      ]
    },
    {
      "cell_type": "markdown",
      "metadata": {
        "id": "6NvZoFYGXf8C"
      },
      "source": [
        "writes to the csv file "
      ]
    },
    {
      "cell_type": "markdown",
      "metadata": {
        "id": "opJq9VR_WNN0"
      },
      "source": [
        "name of the file we want is : filepath+file_name\n"
      ]
    },
    {
      "cell_type": "code",
      "execution_count": null,
      "metadata": {
        "id": "sYNRjXhr-0GW"
      },
      "outputs": [],
      "source": [
        "n=len(all_files)"
      ]
    },
    {
      "cell_type": "code",
      "source": [
        "all_files.sort()\n",
        "d={}\n",
        "for f in range(n):\n",
        "  filez=all_files[f]\n",
        "  if filez.split('__')[1].split('.')[0]=='0':\n",
        "    d[filez.split('__')[0]]=1\n",
        "projects_to_change=d"
      ],
      "metadata": {
        "id": "_3JhK8n1jEY2"
      },
      "execution_count": null,
      "outputs": []
    },
    {
      "cell_type": "code",
      "source": [
        "def check_current_name(cur_prj_name,cur_prj_month):\n",
        "\n",
        "\n",
        "\n",
        "    if cur_prj_name in projects_to_change:\n",
        "      cur_prj_month=int(cur_prj_month)\n",
        "      cur_prj_month+=1\n",
        "    else:\n",
        "      return cur_prj_month\n",
        "    #   new_name='p'+str(name_to_id_mapping[cur_prj_name])+'m'+str(cur_prj_month)+'_'+'commits'+'.json'\n",
        "    # else:\n",
        "    #   new_name='p'+str(name_to_id_mapping[cur_prj_name])+'m'+str(cur_prj_month)+'_'+'commits'+'.json'\n",
        "\n",
        "    return cur_prj_month"
      ],
      "metadata": {
        "id": "DwnnzlC-jX26"
      },
      "execution_count": null,
      "outputs": []
    },
    {
      "cell_type": "code",
      "source": [
        "count=0\n",
        "d={}\n",
        "for new_files in range(n):\n",
        "\n",
        "  f=all_files[new_files]\n",
        "  project_name=f.split('__',1)[0]\n",
        "  month=f.split('__',1)[1].split('.')[0]\n",
        "  out=check_current_name(project_name,month)\n",
        "  df=pd.read_csv(emails_path+'/'+f)\n",
        "  u_devs=get_unique_developers(df)\n",
        "  # print(len(u_devs),out,project_name)\n",
        "  d[project_name+'_'+str(out)]=len(u_devs)\n",
        "  \n",
        "\n"
      ],
      "metadata": {
        "id": "vAOGckV6bvhr"
      },
      "execution_count": null,
      "outputs": []
    },
    {
      "cell_type": "code",
      "source": [
        "x=json.dumps(d)\n",
        "result_path='/content/drive/MyDrive/$ Nov Apache Data /2022_new_data/'\n",
        "with open(result_path+'.json', 'w') as f:\n",
        "    f.write(str(x))"
      ],
      "metadata": {
        "id": "hFJFi4DxlCFV"
      },
      "execution_count": null,
      "outputs": []
    },
    {
      "cell_type": "code",
      "source": [
        ""
      ],
      "metadata": {
        "id": "1h118nHVlDOt"
      },
      "execution_count": null,
      "outputs": []
    }
  ],
  "metadata": {
    "colab": {
      "name": " 2022 commits_monthly_data.ipynb",
      "provenance": []
    },
    "kernelspec": {
      "display_name": "Python 3",
      "name": "python3"
    },
    "language_info": {
      "name": "python"
    }
  },
  "nbformat": 4,
  "nbformat_minor": 0
}