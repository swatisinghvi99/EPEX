{
  "nbformat": 4,
  "nbformat_minor": 0,
  "metadata": {
    "colab": {
      "name": "Copy of 2022 Correcting of emails_script.ipynb",
      "provenance": [],
      "collapsed_sections": []
    },
    "kernelspec": {
      "name": "python3",
      "display_name": "Python 3"
    },
    "language_info": {
      "name": "python"
    }
  },
  "cells": [
    {
      "cell_type": "markdown",
      "source": [
        "create the data needed for the social network"
      ],
      "metadata": {
        "id": "UAfYMh4A6CIc"
      }
    },
    {
      "cell_type": "code",
      "metadata": {
        "id": "ilaQLX4Lj3YJ"
      },
      "source": [
        "import pandas as pd\n",
        "import os\n",
        "import json\n",
        "import re\n",
        "import collections"
      ],
      "execution_count": null,
      "outputs": []
    },
    {
      "cell_type": "markdown",
      "source": [
        "replace email path with the path of the input csv file and results path with the path to which the files need to be stored to"
      ],
      "metadata": {
        "id": "hShOr8Y46Lxl"
      }
    },
    {
      "cell_type": "code",
      "metadata": {
        "id": "KFih06hMj47K"
      },
      "source": [
        "emails_path='/content/drive/MyDrive/$ Nov Apache Data /network_data/emails'\n",
        "to_id='/content/drive/MyDrive/$ Nov Apache Data /name_to_id.json'\n",
        "result_path='/content/drive/MyDrive/$ Nov Apache Data /2022_new_data/'"
      ],
      "execution_count": null,
      "outputs": []
    },
    {
      "cell_type": "code",
      "source": [
        "def extract_number(input_string):\n",
        "  res=re.findall(r'\\d+',input_string)\n",
        "  return res[0]\n",
        "def extract_name(ans1):\n",
        "\n",
        "  regex = re.compile('[^a-zA-Z]')\n",
        "  #First parameter is the replacement, second parameter is your input string\n",
        "  a=regex.sub('',ans1.split('_')[0] )\n",
        "  return a"
      ],
      "metadata": {
        "id": "vnTZ_0fSnRGb"
      },
      "execution_count": null,
      "outputs": []
    },
    {
      "cell_type": "code",
      "source": [
        "def make_the_nested_list(normal_data_frame):\n",
        "  df_list=df['content'].tolist()\n",
        "  result=[]\n",
        "  for i in df_list:\n",
        "    result.append(i.split('##',3))\n",
        "  json_string = json.dumps(result)\n",
        "  return json_string"
      ],
      "metadata": {
        "id": "WjurjK3io5ta"
      },
      "execution_count": null,
      "outputs": []
    },
    {
      "cell_type": "code",
      "source": [
        "all_files=os.listdir(emails_path)"
      ],
      "metadata": {
        "id": "pie1z5b_lmhj"
      },
      "execution_count": null,
      "outputs": []
    },
    {
      "cell_type": "markdown",
      "source": [
        "find the projects whose files have 0 month in them"
      ],
      "metadata": {
        "id": "6TjUqfNj531B"
      }
    },
    {
      "cell_type": "code",
      "source": [
        "n=len(all_files)\n",
        "# number of projects to change the file name for \n",
        "projects_to_change=[]\n",
        "for i in range(n):\n",
        "  fo=all_files[i]\n",
        "  # read the file\n",
        "  # get the mentor list for this project\n",
        "  c=fo.split('__')[0]\n",
        "  p=extract_name(c)\n",
        "  digit=fo.split('__')[1].split('.')[0]\n",
        "  \n",
        "  if digit is '0':\n",
        "    if p not in projects_to_change:\n",
        "      projects_to_change.append(p)\n",
        "projects_to_change.sort()"
      ],
      "metadata": {
        "id": "JNSsBoL_luV6"
      },
      "execution_count": null,
      "outputs": []
    },
    {
      "cell_type": "code",
      "source": [
        "n=len(all_files)\n",
        "# number of projects to change the file name for \n",
        "num_projects=[]\n",
        "for i in range(n):\n",
        "  fo=all_files[i]\n",
        "  # read the file\n",
        "  # get the mentor list for this project\n",
        "  c=fo.split('__')[0]\n",
        "  p=extract_name(c)\n",
        "  num_projects.append(p)\n",
        "num_projects=set(num_projects)"
      ],
      "metadata": {
        "id": "3rRWmHIqlmbH"
      },
      "execution_count": null,
      "outputs": []
    },
    {
      "cell_type": "code",
      "source": [
        "with open(to_id, 'r') as f:\n",
        "       name_to_id= json.load(f)\n",
        "# \n",
        "test_values=list(name_to_id.values())\n",
        "# \n",
        "name=list(name_to_id)\n",
        "# \n",
        "test_keys=[i.split(' ')[0].lower().strip() for i in name_to_id ]\n",
        "# \n",
        "name_to_id_mapping = {test_keys[i]: test_values[i] for i in range(len(test_keys))}\n"
      ],
      "metadata": {
        "id": "MrFR17wJoTmm"
      },
      "execution_count": null,
      "outputs": []
    },
    {
      "cell_type": "code",
      "source": [
        "key=list(name_to_id_mapping.values())\n",
        "k=[int(i) for i in key]\n",
        "k.sort()\n",
        "curre=k[-1]"
      ],
      "metadata": {
        "id": "ieECgC74t13j"
      },
      "execution_count": null,
      "outputs": []
    },
    {
      "cell_type": "code",
      "source": [
        "name_to_id_mapping\n",
        "i=312\n",
        "for file in all_files:\n",
        "  prj_name=file.split('__',1)[0]\n",
        "  if prj_name not in name_to_id_mapping:\n",
        "    name_to_id_mapping[prj_name]=i\n",
        "    i+=1\n",
        "\n",
        "  else:\n",
        "    continue \n"
      ],
      "metadata": {
        "id": "-A5lgN3nvbX1"
      },
      "execution_count": null,
      "outputs": []
    },
    {
      "cell_type": "code",
      "source": [
        "b=name_to_id_mapping"
      ],
      "metadata": {
        "id": "Kn0onKXPZVyT"
      },
      "execution_count": null,
      "outputs": []
    },
    {
      "cell_type": "code",
      "source": [
        "name_to_id_mapping=dict([a, int(x)] for a, x in b.items())"
      ],
      "metadata": {
        "id": "U-DI_kkFYuFx"
      },
      "execution_count": null,
      "outputs": []
    },
    {
      "cell_type": "code",
      "source": [
        "x=json.dumps(name_to_id_mapping)"
      ],
      "metadata": {
        "id": "EtLiTq2zajM7"
      },
      "execution_count": null,
      "outputs": []
    },
    {
      "cell_type": "code",
      "source": [
        "y = x.encode('utf-8')"
      ],
      "metadata": {
        "id": "hDkxOtiOcvWK"
      },
      "execution_count": null,
      "outputs": []
    },
    {
      "cell_type": "code",
      "source": [
        "with open(result_path+'.json', 'w') as f:\n",
        "  f.write(str(y))"
      ],
      "metadata": {
        "id": "H0xsmtkmtvqr"
      },
      "execution_count": null,
      "outputs": []
    },
    {
      "cell_type": "code",
      "source": [
        "all_files.sort()\n",
        "d={}\n",
        "for f in range(n):\n",
        "  filez=all_files[f]\n",
        "  if filez.split('__')[1].split('.')[0]=='0':\n",
        "    d[filez.split('__')[0]]=1\n",
        "projects_to_change=d"
      ],
      "metadata": {
        "id": "wyPMyLOjx69X"
      },
      "execution_count": null,
      "outputs": []
    },
    {
      "cell_type": "code",
      "source": [
        "def check_current_name(cur_prj_name,cur_prj_month):\n",
        "\n",
        "\n",
        "\n",
        "    if cur_prj_name in projects_to_change:\n",
        "      cur_prj_month=int(cur_prj_month)\n",
        "      cur_prj_month+=1\n",
        "    else:\n",
        "      return cur_prj_month\n",
        "    #   new_name='p'+str(name_to_id_mapping[cur_prj_name])+'m'+str(cur_prj_month)+'_'+'commits'+'.json'\n",
        "    # else:\n",
        "    #   new_name='p'+str(name_to_id_mapping[cur_prj_name])+'m'+str(cur_prj_month)+'_'+'commits'+'.json'\n",
        "\n",
        "    return cur_prj_month"
      ],
      "metadata": {
        "id": "jW8RMtMwx9yo"
      },
      "execution_count": null,
      "outputs": []
    },
    {
      "cell_type": "code",
      "source": [
        "res=[]\n",
        "for f in range(n):\n",
        "  # print(all_files[f])\n",
        "  \n",
        "  filez=all_files[f]\n",
        "\n",
        "\n",
        "  project_name=filez.split('__',1)[0]\n",
        "  month=filez.split('__',1)[1].split('.')[0]\n",
        "  df=pd.read_csv(emails_path+'/'+filez,names=['content'])\n",
        "  answer=make_the_nested_list(df)\n",
        "   \n",
        "  out=check_current_name(project_name,month)\n",
        "  res.append([project_name,month,out,f])\n",
        "  # write the file now\n",
        "  with open(result_path+filez.split('__',1)[0]+'_'+str(out)+'.json', 'w') as f:\n",
        "    f.write(str(answer))"
      ],
      "metadata": {
        "id": "ItPZofvPnyLb"
      },
      "execution_count": null,
      "outputs": []
    },
    {
      "cell_type": "code",
      "source": [
        ""
      ],
      "metadata": {
        "id": "BHY9AnDPyh89"
      },
      "execution_count": null,
      "outputs": []
    }
  ]
}