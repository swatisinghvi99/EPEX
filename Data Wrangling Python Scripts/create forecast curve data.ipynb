{
  "nbformat": 4,
  "nbformat_minor": 0,
  "metadata": {
    "colab": {
      "name": "forecast curve data new 2022.ipynb",
      "provenance": []
    },
    "kernelspec": {
      "name": "python3",
      "display_name": "Python 3"
    },
    "language_info": {
      "name": "python"
    }
  },
  "cells": [
    {
      "cell_type": "markdown",
      "source": [
        "creates forecast data for the dashbaord "
      ],
      "metadata": {
        "id": "U2EbdluD3iyy"
      }
    },
    {
      "cell_type": "code",
      "execution_count": null,
      "metadata": {
        "id": "KXMHIuiy2a7c"
      },
      "outputs": [],
      "source": [
        "import pandas as pd\n",
        "import json\n",
        "import os "
      ]
    },
    {
      "cell_type": "markdown",
      "source": [
        "add files here and then run scripts"
      ],
      "metadata": {
        "id": "tEH7cXJp2bPj"
      }
    },
    {
      "cell_type": "code",
      "source": [
        "# Opening JSON file\n",
        "f = open('/content/sustainability_forecast.json')\n",
        "# result='/content/drive/MyDrive/$ Nov Apache Data /updated_network_data/new_forecast/'\n",
        "result='/content/drive/MyDrive/$ Nov Apache Data /2022_new_data/new_forecast/'"
      ],
      "metadata": {
        "id": "YywpOPWg2nhN"
      },
      "execution_count": null,
      "outputs": []
    },
    {
      "cell_type": "code",
      "source": [
        "to_id='/content/drive/MyDrive/$ Nov Apache Data /name_to_id.json'"
      ],
      "metadata": {
        "id": "a28yxa1LAXao"
      },
      "execution_count": null,
      "outputs": []
    },
    {
      "cell_type": "code",
      "source": [
        "new_ids=json.load(open(to_id))"
      ],
      "metadata": {
        "id": "3czrtykGAw2J"
      },
      "execution_count": null,
      "outputs": []
    },
    {
      "cell_type": "code",
      "source": [
        "with open(to_id, 'r') as f:\n",
        "       name_to_id= json.load(f)\n",
        "# \n",
        "test_values=list(name_to_id.values())\n",
        "# \n",
        "name=list(name_to_id)\n",
        "# \n",
        "test_keys=[i.split(' ')[0].lower().strip() for i in name_to_id ]\n",
        "# \n",
        "name_to_id_mapping = {test_keys[i]: test_values[i] for i in range(len(test_keys))}\n",
        "key=list(name_to_id_mapping.values())\n",
        "k=[int(i) for i in key]\n",
        "k.sort()\n",
        "curre=k[-1]\n",
        "name_to_id_mapping\n"
      ],
      "metadata": {
        "id": "pJ8qZT6MBxRI"
      },
      "execution_count": null,
      "outputs": []
    },
    {
      "cell_type": "code",
      "source": [
        "name_to_id_mapping"
      ],
      "metadata": {
        "id": "Yyzv_77cA6ot"
      },
      "execution_count": null,
      "outputs": []
    },
    {
      "cell_type": "code",
      "source": [
        "data = json.load(f)"
      ],
      "metadata": {
        "id": "3zdcFQyo-q6e"
      },
      "execution_count": null,
      "outputs": []
    },
    {
      "cell_type": "code",
      "source": [
        "for i in data:\n",
        "  d=data[i]\n",
        "  df=pd.DataFrame.from_dict(data=d, orient='index')\n",
        "  df.reset_index(inplace=True)\n",
        "  df.rename(columns={'index':'date',0:'close'},inplace=True)\n",
        "  # df.to_csv(result+i+'/'+'f_data.csv', index=False)\n",
        "\n",
        "  df.to_csv(result+str(i)+'_'+'f_data.csv', index=False)\n"
      ],
      "metadata": {
        "id": "axUu4jw8gnvL"
      },
      "execution_count": null,
      "outputs": []
    },
    {
      "cell_type": "code",
      "source": [
        "for i in data:\n",
        "  d=data[i]\n",
        "  df=pd.DataFrame.from_dict(data=d, orient='index')\n",
        "  df.reset_index(inplace=True)\n",
        "  df.rename(columns={'index':'date',0:'close'},inplace=True)\n",
        "  # df.to_csv(result+i+'/'+'f_data.csv', index=False)\n",
        "  df.to_csv(result+name_to_id_mapping[i]+'_'+'f_data.csv', index=False)\n",
        "  print(i)\n",
        "  try:\n",
        "    df.to_csv(result+str(i)+'_'+'f_data.csv', index=False)\n",
        "  except KeyError:\n",
        "    continue\n"
      ],
      "metadata": {
        "id": "hHYEw9BqJ5YD"
      },
      "execution_count": null,
      "outputs": []
    },
    {
      "cell_type": "code",
      "source": [
        "for i in data:\n",
        "  d=data[i]\n",
        "  print(i)"
      ],
      "metadata": {
        "id": "b41n87lUhGzb"
      },
      "execution_count": null,
      "outputs": []
    },
    {
      "cell_type": "code",
      "source": [
        "res=[]\n",
        "for i in data:\n",
        "  res.append(i)"
      ],
      "metadata": {
        "id": "B4uo04wYKOc3"
      },
      "execution_count": null,
      "outputs": []
    },
    {
      "cell_type": "code",
      "source": [
        "len(name_to_id_mapping)"
      ],
      "metadata": {
        "colab": {
          "base_uri": "https://localhost:8080/"
        },
        "id": "CSOL5PD_C12y",
        "outputId": "e01a4eb3-363a-451e-c1dc-38942e01ec51"
      },
      "execution_count": null,
      "outputs": [
        {
          "output_type": "execute_result",
          "data": {
            "text/plain": [
              "310"
            ]
          },
          "metadata": {},
          "execution_count": 33
        }
      ]
    },
    {
      "cell_type": "code",
      "source": [
        "res"
      ],
      "metadata": {
        "id": "Chn26sNZD_hO"
      },
      "execution_count": null,
      "outputs": []
    },
    {
      "cell_type": "code",
      "source": [
        ""
      ],
      "metadata": {
        "id": "0V42i0aU16tc"
      },
      "execution_count": null,
      "outputs": []
    }
  ]
}