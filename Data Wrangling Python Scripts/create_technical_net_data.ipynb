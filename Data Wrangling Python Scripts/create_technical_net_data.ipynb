{
  "nbformat": 4,
  "nbformat_minor": 0,
  "metadata": {
    "colab": {
      "name": "Copy of Commits_script.ipynb",
      "provenance": []
    },
    "kernelspec": {
      "name": "python3",
      "display_name": "Python 3"
    },
    "language_info": {
      "name": "python"
    }
  },
  "cells": [
    {
      "cell_type": "markdown",
      "source": [
        "# Creates the data needed for the techinical network\n",
        "- feed in a csv file that contains a row wise developer details like developer, commit, file type "
      ],
      "metadata": {
        "id": "oweorxnO44kh"
      }
    },
    {
      "cell_type": "code",
      "metadata": {
        "id": "ilaQLX4Lj3YJ"
      },
      "source": [
        "import pandas as pd\n",
        "import os\n",
        "import json\n",
        "import pandas as pd\n",
        "import re\n",
        "import collections"
      ],
      "execution_count": null,
      "outputs": []
    },
    {
      "cell_type": "markdown",
      "source": [
        "replace email path with the path of the csv input file"
      ],
      "metadata": {
        "id": "Y8pOjaWF5IYf"
      }
    },
    {
      "cell_type": "code",
      "metadata": {
        "id": "KFih06hMj47K"
      },
      "source": [
        "# emails_path='/content/drive/MyDrive/$ Nov Apache Data /network_data/commits'\n",
        "emails_path='/content/drive/MyDrive/$ Nov Apache Data /network_data/network_data/commits'\n",
        "to_id='/content/drive/MyDrive/$ Nov Apache Data /name_to_id.json'\n",
        "# result_path='/content/drive/MyDrive/$ Nov Apache Data /updated_network_data/New_commits_2022/'"
      ],
      "execution_count": null,
      "outputs": []
    },
    {
      "cell_type": "code",
      "source": [
        "result_path='/content/drive/MyDrive/$ Nov Apache Data /2022_new_data/new_commits/'"
      ],
      "metadata": {
        "id": "HdeBee8Fhveg"
      },
      "execution_count": null,
      "outputs": []
    },
    {
      "cell_type": "code",
      "source": [
        "def extract_number(input_string):\n",
        "  res=re.findall(r'\\d+',input_string)\n",
        "  return res[0]\n",
        "def extract_name(ans1):\n",
        "\n",
        "  regex = re.compile('[^a-zA-Z]')\n",
        "  #First parameter is the replacement, second parameter is your input string\n",
        "  a=regex.sub('',ans1.split('_')[0] )\n",
        "  return a"
      ],
      "metadata": {
        "id": "vnTZ_0fSnRGb"
      },
      "execution_count": null,
      "outputs": []
    },
    {
      "cell_type": "markdown",
      "source": [
        "function makes the final format needed [developer,file type, number of commits]"
      ],
      "metadata": {
        "id": "tZ1Tzk6l5NUb"
      }
    },
    {
      "cell_type": "code",
      "source": [
        "def make_the_nested_list(normal_data_frame):\n",
        "  df_list=df['content'].tolist()\n",
        "  result=[]\n",
        "  for i in df_list:\n",
        "    myorder = [1,0,2]\n",
        "    mylist=i.split('##',3)\n",
        "    try:\n",
        "      mylist = [mylist[i] for i in myorder]\n",
        "    except IndexError:\n",
        "      continue\n",
        "    # mylist = [mylist[i] for i in myorder]\n",
        "\n",
        "    result.append(mylist)\n",
        "  json_string = json.dumps(result)\n",
        "  return json_string"
      ],
      "metadata": {
        "id": "WjurjK3io5ta"
      },
      "execution_count": null,
      "outputs": []
    },
    {
      "cell_type": "code",
      "source": [
        "all_files=os.listdir(emails_path)"
      ],
      "metadata": {
        "id": "pie1z5b_lmhj"
      },
      "execution_count": null,
      "outputs": []
    },
    {
      "cell_type": "code",
      "source": [
        "all_files.sort()\n",
        "len(all_files)"
      ],
      "metadata": {
        "id": "M8Y2MXUelmeS",
        "colab": {
          "base_uri": "https://localhost:8080/"
        },
        "outputId": "9066569b-1a81-47d7-81a2-9435c7b23b8f"
      },
      "execution_count": null,
      "outputs": [
        {
          "output_type": "execute_result",
          "data": {
            "text/plain": [
              "4327"
            ]
          },
          "metadata": {},
          "execution_count": 59
        }
      ]
    },
    {
      "cell_type": "code",
      "source": [
        "n=len(all_files)\n",
        "# number of projects to change the file name for \n",
        "projects_to_change=[]\n",
        "for i in range(n):\n",
        "  fo=all_files[i]\n",
        "  # read the file\n",
        "  # get the mentor list for this project\n",
        "  c=fo.split('__')[0]\n",
        "  p=extract_name(c)\n",
        "  digit=fo.split('__')[1].split('.')[0]\n",
        "  \n",
        "  if digit is '0':\n",
        "    if p not in projects_to_change:\n",
        "      projects_to_change.append(p)\n",
        "projects_to_change.sort()"
      ],
      "metadata": {
        "id": "JNSsBoL_luV6"
      },
      "execution_count": null,
      "outputs": []
    },
    {
      "cell_type": "code",
      "source": [
        "n=len(all_files)\n",
        "# number of projects to change the file name for \n",
        "num_projects=[]\n",
        "for i in range(n):\n",
        "  fo=all_files[i]\n",
        "  # read the file\n",
        "  # get the mentor list for this project\n",
        "  c=fo.split('__')[0]\n",
        "  p=extract_name(c)\n",
        "  num_projects.append(p)\n",
        "num_projects=set(num_projects)"
      ],
      "metadata": {
        "id": "3rRWmHIqlmbH"
      },
      "execution_count": null,
      "outputs": []
    },
    {
      "cell_type": "code",
      "source": [
        "with open(to_id, 'r') as f:\n",
        "       name_to_id= json.load(f)\n",
        "# \n",
        "test_values=list(name_to_id.values())\n",
        "# \n",
        "name=list(name_to_id)\n",
        "# \n",
        "test_keys=[i.split(' ')[0].lower().strip() for i in name_to_id ]\n",
        "# \n",
        "name_to_id_mapping = {test_keys[i]: test_values[i] for i in range(len(test_keys))}\n"
      ],
      "metadata": {
        "id": "MrFR17wJoTmm"
      },
      "execution_count": null,
      "outputs": []
    },
    {
      "cell_type": "code",
      "source": [
        "key=list(name_to_id_mapping.values())\n",
        "k=[int(i) for i in key]\n",
        "k.sort()\n",
        "curre=k[-1]"
      ],
      "metadata": {
        "id": "ieECgC74t13j"
      },
      "execution_count": null,
      "outputs": []
    },
    {
      "cell_type": "code",
      "source": [
        "name_to_id_mapping\n",
        "i=312\n",
        "for file in all_files:\n",
        "  prj_name=file.split('__',1)[0]\n",
        "  if prj_name not in name_to_id_mapping:\n",
        "    name_to_id_mapping[prj_name]=i\n",
        "    i+=1\n",
        "\n",
        "  else:\n",
        "    continue \n"
      ],
      "metadata": {
        "id": "-A5lgN3nvbX1"
      },
      "execution_count": null,
      "outputs": []
    },
    {
      "cell_type": "code",
      "source": [
        "all_files.sort()\n",
        "d={}\n",
        "for f in range(n):\n",
        "  filez=all_files[f]\n",
        "  if filez.split('__')[1].split('.')[0]=='0':\n",
        "    d[filez.split('__')[0]]=1\n",
        "projects_to_change=d"
      ],
      "metadata": {
        "id": "qf_cPQe6u99v"
      },
      "execution_count": null,
      "outputs": []
    },
    {
      "cell_type": "code",
      "source": [
        "def check_current_name(cur_prj_name,cur_prj_month):\n",
        "\n",
        "\n",
        "\n",
        "    if cur_prj_name in projects_to_change:\n",
        "      cur_prj_month=int(cur_prj_month)\n",
        "      cur_prj_month+=1\n",
        "    else:\n",
        "      return cur_prj_month\n",
        "    #   new_name='p'+str(name_to_id_mapping[cur_prj_name])+'m'+str(cur_prj_month)+'_'+'commits'+'.json'\n",
        "    # else:\n",
        "    #   new_name='p'+str(name_to_id_mapping[cur_prj_name])+'m'+str(cur_prj_month)+'_'+'commits'+'.json'\n",
        "\n",
        "    return cur_prj_month"
      ],
      "metadata": {
        "id": "Qk9prZxbs3GS"
      },
      "execution_count": null,
      "outputs": []
    },
    {
      "cell_type": "code",
      "source": [
        "n"
      ],
      "metadata": {
        "colab": {
          "base_uri": "https://localhost:8080/"
        },
        "id": "I8OBht372j7h",
        "outputId": "d9020458-d5af-4265-9e4b-569d1ea977bf"
      },
      "execution_count": null,
      "outputs": [
        {
          "output_type": "execute_result",
          "data": {
            "text/plain": [
              "4327"
            ]
          },
          "metadata": {},
          "execution_count": 16
        }
      ]
    },
    {
      "cell_type": "markdown",
      "source": [
        "run this"
      ],
      "metadata": {
        "id": "o9Yvmyv-5Umk"
      }
    },
    {
      "cell_type": "code",
      "source": [
        "res=[]\n",
        "for f in range(n):\n",
        "  # print(all_files[f])\n",
        "  \n",
        "  filez=all_files[f]\n",
        "\n",
        "\n",
        "  project_name=filez.split('__',1)[0]\n",
        "  month=filez.split('__',1)[1].split('.')[0]\n",
        "  df=pd.read_csv(emails_path+'/'+filez,names=['content'])\n",
        "  answer=make_the_nested_list(df)\n",
        "   \n",
        "  out=check_current_name(project_name,month)\n",
        "  res.append([project_name,month,out,f])\n",
        "  # write the file now\n",
        "  # print(filez.split('__',1)[0]+'_'+str(out)+'.json')\n",
        "  with open(result_path+filez.split('__',1)[0]+'_'+str(out)+'.json', 'w') as f:\n",
        "    f.write(str(answer))\n"
      ],
      "metadata": {
        "id": "ItPZofvPnyLb"
      },
      "execution_count": null,
      "outputs": []
    },
    {
      "cell_type": "markdown",
      "source": [
        "------------------------STOP"
      ],
      "metadata": {
        "id": "eNzSWFT7Cyco"
      }
    }
  ]
}